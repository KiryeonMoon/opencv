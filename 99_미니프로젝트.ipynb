{
 "cells": [
  {
   "cell_type": "markdown",
   "metadata": {},
   "source": [
    "## 1. 반자동 문서 스캐너"
   ]
  },
  {
   "cell_type": "markdown",
   "metadata": {},
   "source": [
    "### 마우스 이벤트 등록"
   ]
  },
  {
   "cell_type": "code",
   "execution_count": null,
   "metadata": {},
   "outputs": [],
   "source": [
    "import cv2\n",
    "\n",
    "def mouse_handler(event, x, y, flags, param):\n",
    "    if event == cv2.EVENT_LBUTTONDOWN:  # 마우스 왼쪽 버튼 누름\n",
    "        print('왼쪽 버튼 down')\n",
    "        print(x, y)\n",
    "    elif event == cv2.EVENT_LBUTTONUP:  # 마우스 왼쪽 버튼 뗌\n",
    "        print('왼쪽 버튼 Up')\n",
    "        print(x, y) \n",
    "\n",
    "img = cv2.imread('poker.jpg')\n",
    "cv2.namedWindow('Test') # Test라는 이름의 윈도우를 먼저 만들어 둠. 여기에 마우스 이벤트를 처리하기 위한 핸들러 적용\n",
    "cv2.setMouseCallback('Test', mouse_handler)\n",
    "\n",
    "cv2.imshow('Test', img)\n",
    "cv2.waitKey(0)\n",
    "cv2.destroyAllWindows()"
   ]
  },
  {
   "cell_type": "markdown",
   "metadata": {},
   "source": [
    "### 프로젝트"
   ]
  },
  {
   "cell_type": "code",
   "execution_count": 2,
   "metadata": {},
   "outputs": [],
   "source": [
    "import cv2\n",
    "import numpy as np\n",
    "\n",
    "point_lst = []\n",
    "src_img = cv2.imread('poker.jpg')\n",
    "\n",
    "COLOR = (255, 0, 255)   # 핑크\n",
    "THICKNESS = 3\n",
    "drawing = False # 선을 그릴지 여부 판단\n",
    "\n",
    "\n",
    "def mouse_handler(event, x, y, flags, param):\n",
    "    global drawing\n",
    "    dst_img = src_img.copy()\n",
    "\n",
    "    if event == cv2.EVENT_LBUTTONDOWN:  # 마우스 왼쪽 버튼 누름\n",
    "        drawing = True # 선을 그리기 시작\n",
    "        point_lst.append((x, y))\n",
    "    \n",
    "    if drawing:\n",
    "        prev_point = None   # 직선의 시작점\n",
    "        for point in point_lst:\n",
    "            cv2.circle(dst_img, point, 10, COLOR, cv2.FILLED)\n",
    "            if prev_point:\n",
    "                cv2.line(dst_img, prev_point, point, COLOR, THICKNESS, cv2.LINE_AA)\n",
    "            prev_point = point\n",
    "        \n",
    "        next_point = (x, y)\n",
    "\n",
    "        if len(point_lst) == 4:\n",
    "            show_result()   # 결과 출력\n",
    "            next_point = point_lst[0]   # 마지막 점과 맨 첫번째 점을 연결해줌\n",
    "\n",
    "        cv2.line(dst_img, prev_point, next_point, COLOR, THICKNESS, cv2.LINE_AA)\n",
    "    \n",
    "    cv2.imshow('Test', dst_img)\n",
    "\n",
    "def show_result():\n",
    "    width, height = 530, 710\n",
    "\n",
    "    src = np.float32(point_lst)\n",
    "    dst = np.array([[0, 0], [width, 0], [width, height], [0, height]], dtype = np.float32)  # output 4개 지점\n",
    "\n",
    "    matrix = cv2.getPerspectiveTransform(src, dst)  # src영역을 dst영역으로 바꾸기 위한 변환행렬 얻어옴\n",
    "    result = cv2.warpPerspective(src_img, matrix, (width, height))  # 변환행렬을 적용하여 최종 결과이미지를 얻어옴\n",
    "    cv2.imshow('Result', result)\n",
    "    \n",
    "\n",
    "cv2.namedWindow('Test') # Test라는 이름의 윈도우를 먼저 만들어 둠. 여기에 마우스 이벤트를 처리하기 위한 핸들러 적용\n",
    "cv2.setMouseCallback('Test', mouse_handler)\n",
    "\n",
    "cv2.imshow('Test', src_img)\n",
    "cv2.waitKey(0)\n",
    "cv2.destroyAllWindows()"
   ]
  },
  {
   "cell_type": "markdown",
   "metadata": {},
   "source": [
    "## 2. 개별 카드 추출해서 파일 저장"
   ]
  },
  {
   "cell_type": "code",
   "execution_count": 2,
   "metadata": {},
   "outputs": [],
   "source": [
    "import cv2\n",
    "img = cv2.imread('card.png')    # 원본\n",
    "target_img = img.copy() # 사본\n",
    "COLOR = (0, 200, 0) # 녹색\n",
    "gray = cv2.cvtColor(img, cv2.COLOR_RGB2GRAY)\n",
    "ret, otsu = cv2.threshold(gray, -1, 255, cv2.THRESH_BINARY|cv2.THRESH_OTSU)\n",
    "\n",
    "contrs, hierarchy = cv2.findContours(otsu, cv2.RETR_LIST, cv2.CHAIN_APPROX_NONE)\n",
    "\n",
    "idx = 0\n",
    "for cnt in contrs:\n",
    "    if cv2.contourArea(cnt) > 25000:    # 경계선 면적이 25,000 이상인 윤곽선만 그리고 싶음\n",
    "        x, y, width, height = cv2.boundingRect(cnt) # 윤곽선을 둘러싸고 있는 사각형의 정보 4개를 반환\n",
    "        cv2.rectangle(target_img, (x, y), (x+width, y+height), COLOR, 2)\n",
    "        \n",
    "        # 그린 영역을 잘라서 파일 저장\n",
    "        crop = img[y:y+height, x:x+width]\n",
    "        cv2.imshow(f'Card_Crop_{idx+1}', crop)\n",
    "        # cv2.imwrite(f'Card_Crop_{idx+1}.png', crop)   # 파일 저장\n",
    "        idx += 1\n",
    "\n",
    "cv2.imshow('Contour', target_img)\n",
    "cv2.waitKey(0)\n",
    "cv2.destroyAllWindows()"
   ]
  },
  {
   "cell_type": "code",
   "execution_count": null,
   "metadata": {},
   "outputs": [],
   "source": []
  }
 ],
 "metadata": {
  "kernelspec": {
   "display_name": "base",
   "language": "python",
   "name": "python3"
  },
  "language_info": {
   "codemirror_mode": {
    "name": "ipython",
    "version": 3
   },
   "file_extension": ".py",
   "mimetype": "text/x-python",
   "name": "python",
   "nbconvert_exporter": "python",
   "pygments_lexer": "ipython3",
   "version": "3.9.12"
  }
 },
 "nbformat": 4,
 "nbformat_minor": 2
}
