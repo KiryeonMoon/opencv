{
 "cells": [
  {
   "cell_type": "markdown",
   "metadata": {},
   "source": [
    "## 이미지 검출 (경계선)\n",
    "픽셀의 색깔이 확 변하는 부분을 경계선으로 판단함"
   ]
  },
  {
   "cell_type": "markdown",
   "metadata": {},
   "source": [
    "### Canny Edge Detection Algorithm\n",
    "경계선 또는 가장자리 검출 성능이 우수한 알고리즘. 노이즈에 민감하지도 않아서 많이 사용  \n",
    "이미지 속 픽셀의 색 변화가 상위 임계값보다 큰 기울기로 변하면 경계값으로 인식함  \n",
    "이미지 속 픽셀의 색 변화가 하위 임계값보다 작은 기울기로 변하면 경계값으로 인식하지 않음"
   ]
  },
  {
   "cell_type": "code",
   "execution_count": null,
   "metadata": {},
   "outputs": [],
   "source": [
    "import cv2\n",
    "\n",
    "img = cv2.imread('snowman.png')\n",
    "\n",
    "# 대상 이미지, Threshold Min Val(하위 임계값), Threshold Max Val(상위 임계값)\n",
    "canny = cv2.Canny(img, 150, 200)\n",
    "\n",
    "cv2.imshow('Origin', img)\n",
    "cv2.imshow('Canny', canny)\n",
    "cv2.waitKey(0)\n",
    "cv2.destroyAllWindows()"
   ]
  },
  {
   "cell_type": "code",
   "execution_count": null,
   "metadata": {},
   "outputs": [],
   "source": [
    "import cv2\n",
    "\n",
    "def empty(pos):\n",
    "    pass\n",
    "\n",
    "img = cv2.imread('snowman.png')\n",
    "\n",
    "winname = 'Trackbar'\n",
    "cv2.namedWindow(winname)\n",
    "cv2.createTrackbar('Threshold_Min', winname, 0, 255, empty)\n",
    "cv2.createTrackbar('Threshold_Max', winname, 0, 255, empty)\n",
    "\n",
    "while True:\n",
    "    threshold_Min = cv2.getTrackbarPos('Threshold_Min', winname)\n",
    "    threshold_Max = cv2.getTrackbarPos('Threshold_Max', winname)\n",
    "\n",
    "    canny = cv2.Canny(img, threshold_Min, threshold_Max)\n",
    "\n",
    "    cv2.imshow('Origin', img)\n",
    "    cv2.imshow(winname, canny)\n",
    "\n",
    "    if cv2.waitKey(1) == ord('q'):\n",
    "        break\n",
    "\n",
    "cv2.destroyAllWindows()"
   ]
  },
  {
   "cell_type": "markdown",
   "metadata": {},
   "source": [
    "## 이미지 검출 (윤곽선)"
   ]
  },
  {
   "cell_type": "markdown",
   "metadata": {},
   "source": [
    "### 윤곽선(Contour) : 경계선을 연결한 선"
   ]
  },
  {
   "cell_type": "code",
   "execution_count": null,
   "metadata": {},
   "outputs": [],
   "source": [
    "import cv2\n",
    "\n",
    "img = cv2.imread('card.png')    # 원본\n",
    "target_img = img.copy() # 사본\n",
    "COLOR = (0, 200, 0) # 녹색\n",
    "\n",
    "gray = cv2.cvtColor(img, cv2.COLOR_RGB2GRAY)\n",
    "ret, otsu = cv2.threshold(gray, -1, 255, cv2.THRESH_BINARY|cv2.THRESH_OTSU)\n",
    "\n",
    "# 윤곽선 검출\n",
    "# 반환값 : 윤곽선 정보, 윤곽선 계층 구조 반환\n",
    "# 입력값 : 이미지, 윤곽선 찾는 모드, 윤곽선 찾을 때 사용하는 근사치 방법\n",
    "contrs, hierarchy = cv2.findContours(otsu, cv2.RETR_LIST, cv2.CHAIN_APPROX_NONE)\n",
    "\n",
    "# 윤곽선 그리기\n",
    "# 대상 이미지, 윤곽선 정보, 인덱스(-1이면 전체), 색깔, 두께\n",
    "cv2.drawContours(target_img, contrs, -1, COLOR, 2)    # -1 : 검출된 모든 윤곽선을 그려라\n",
    "\n",
    "cv2.imshow('Origin', img)\n",
    "cv2.imshow('Gray', gray)\n",
    "cv2.imshow('Otsu', otsu)\n",
    "cv2.imshow('Contour', target_img)\n",
    "\n",
    "cv2.waitKey(0)\n",
    "cv2.destroyAllWindows()"
   ]
  },
  {
   "cell_type": "markdown",
   "metadata": {},
   "source": [
    "`찾기 모드`  \n",
    "cv2.RETR_EXTERNAL : 가장 외곽의 윤곽선만 찾음  \n",
    "cv2.RETR_LIST : 모든 윤곽선 찾음 (계층 정보는 없음)  \n",
    "cv2.RETR_TREE : 모든 윤곽선 찾음 (계층 정보를 트리 구조로 생성)  \n",
    "  \n",
    "`찾을 때 사용하는 근사치 방법`  \n",
    "cv.CHAIN_APPROX_NONE : 모든 좌표값 반환  \n",
    "cv.CHAIN_APPROX_SIMPLE : 중복을 제거하고 꼭지점 좌표만 반환 > 메모리를 줄일 수 있음"
   ]
  },
  {
   "cell_type": "code",
   "execution_count": 4,
   "metadata": {},
   "outputs": [
    {
     "name": "stdout",
     "output_type": "stream",
     "text": [
      "총 발견 갯수 : 8\n",
      "[[[ 1 -1 -1 -1]\n",
      "  [ 2  0 -1 -1]\n",
      "  [ 3  1 -1 -1]\n",
      "  [ 4  2 -1 -1]\n",
      "  [ 5  3 -1 -1]\n",
      "  [ 6  4 -1 -1]\n",
      "  [ 7  5 -1 -1]\n",
      "  [-1  6 -1 -1]]]\n"
     ]
    }
   ],
   "source": [
    "import cv2\n",
    "img = cv2.imread('card.png')    # 원본\n",
    "target_img = img.copy() # 사본\n",
    "COLOR = (0, 200, 0) # 녹색\n",
    "gray = cv2.cvtColor(img, cv2.COLOR_RGB2GRAY)\n",
    "ret, otsu = cv2.threshold(gray, -1, 255, cv2.THRESH_BINARY|cv2.THRESH_OTSU)\n",
    "\n",
    "# 찾기 모드 변경하며 실행해보기\n",
    "contrs, hierarchy = cv2.findContours(otsu, cv2.RETR_EXTERNAL, cv2.CHAIN_APPROX_NONE)\n",
    "# contrs, hierarchy = cv2.findContours(otsu, cv2.RETR_LIST, cv2.CHAIN_APPROX_NONE)\n",
    "# contrs, hierarchy = cv2.findContours(otsu, cv2.RETR_TREE, cv2.CHAIN_APPROX_NONE)\n",
    "print(f'총 발견 갯수 : {len(contrs)}')\n",
    "print(hierarchy)\n",
    "\n",
    "cv2.drawContours(target_img, contrs, -1, COLOR, 2)    # -1 : 검출된 모든 윤곽선을 그려라\n",
    "cv2.imshow('Contour', target_img)\n",
    "cv2.waitKey(0)\n",
    "cv2.destroyAllWindows()"
   ]
  },
  {
   "cell_type": "markdown",
   "metadata": {},
   "source": [
    "### 경계 사각형\n",
    "윤곽선의 경계면을 둘러싸는 사각형\n",
    "> boundingRect()"
   ]
  },
  {
   "cell_type": "code",
   "execution_count": 6,
   "metadata": {},
   "outputs": [],
   "source": [
    "import cv2\n",
    "img = cv2.imread('card.png')    # 원본\n",
    "target_img = img.copy() # 사본\n",
    "COLOR = (0, 200, 0) # 녹색\n",
    "gray = cv2.cvtColor(img, cv2.COLOR_RGB2GRAY)\n",
    "ret, otsu = cv2.threshold(gray, -1, 255, cv2.THRESH_BINARY|cv2.THRESH_OTSU)\n",
    "\n",
    "contrs, hierarchy = cv2.findContours(otsu, cv2.RETR_LIST, cv2.CHAIN_APPROX_NONE)\n",
    "\n",
    "for cnt in contrs:\n",
    "    x, y, width, height = cv2.boundingRect(cnt) # 윤곽선을 둘러싸고 있는 사각형의 정보 4개를 반환\n",
    "    cv2.rectangle(target_img, (x, y), (x+width, y+height), COLOR, 2)\n",
    "\n",
    "cv2.imshow('Contour', target_img)\n",
    "cv2.waitKey(0)\n",
    "cv2.destroyAllWindows()"
   ]
  },
  {
   "cell_type": "markdown",
   "metadata": {},
   "source": [
    "### 윤곽선의 면적\n",
    "찾은 윤곽선의 크기가 얼마 이상인 면적만 sorting하고 싶을 때 이용\n",
    "> contourArea()"
   ]
  },
  {
   "cell_type": "code",
   "execution_count": 7,
   "metadata": {},
   "outputs": [],
   "source": [
    "import cv2\n",
    "img = cv2.imread('card.png')    # 원본\n",
    "target_img = img.copy() # 사본\n",
    "COLOR = (0, 200, 0) # 녹색\n",
    "gray = cv2.cvtColor(img, cv2.COLOR_RGB2GRAY)\n",
    "ret, otsu = cv2.threshold(gray, -1, 255, cv2.THRESH_BINARY|cv2.THRESH_OTSU)\n",
    "\n",
    "contrs, hierarchy = cv2.findContours(otsu, cv2.RETR_LIST, cv2.CHAIN_APPROX_NONE)\n",
    "\n",
    "for cnt in contrs:\n",
    "    if cv2.contourArea(cnt) > 25000:    # 경계선 면적이 25,000 이상인 윤곽선만 그리고 싶음\n",
    "        x, y, width, height = cv2.boundingRect(cnt) # 윤곽선을 둘러싸고 있는 사각형의 정보 4개를 반환\n",
    "        cv2.rectangle(target_img, (x, y), (x+width, y+height), COLOR, 2)\n",
    "\n",
    "cv2.imshow('Contour', target_img)\n",
    "cv2.waitKey(0)\n",
    "cv2.destroyAllWindows()"
   ]
  }
 ],
 "metadata": {
  "kernelspec": {
   "display_name": "base",
   "language": "python",
   "name": "python3"
  },
  "language_info": {
   "codemirror_mode": {
    "name": "ipython",
    "version": 3
   },
   "file_extension": ".py",
   "mimetype": "text/x-python",
   "name": "python",
   "nbconvert_exporter": "python",
   "pygments_lexer": "ipython3",
   "version": "3.9.12"
  }
 },
 "nbformat": 4,
 "nbformat_minor": 2
}
