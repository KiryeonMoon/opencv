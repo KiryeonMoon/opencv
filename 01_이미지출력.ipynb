{
 "cells": [
  {
   "cell_type": "markdown",
   "metadata": {},
   "source": [
    "# 환경 설정\n",
    "> pip install opencv-python"
   ]
  },
  {
   "cell_type": "code",
   "execution_count": 1,
   "metadata": {},
   "outputs": [
    {
     "data": {
      "text/plain": [
       "'4.8.1'"
      ]
     },
     "execution_count": 1,
     "metadata": {},
     "output_type": "execute_result"
    }
   ],
   "source": [
    "import cv2  # opencv 패키지\n",
    "cv2.__version__"
   ]
  },
  {
   "cell_type": "markdown",
   "metadata": {},
   "source": [
    "# OpenCV (Computer Vision)\n",
    "다양한 영상(이미지)/동영상 처리에 사용되는 오픈소스 라이브러리"
   ]
  },
  {
   "cell_type": "markdown",
   "metadata": {},
   "source": [
    "# 1. 이미지 출력"
   ]
  },
  {
   "cell_type": "code",
   "execution_count": 3,
   "metadata": {},
   "outputs": [],
   "source": [
    "imgsource = cv2.imread('img.jpg') # 해당 경로의 이미지파일을 3차 배열로 읽어오기\n",
    "cv2.imshow('CatImage', imgsource)   # 'CatImage'라는 이름의 창에 img파일을 표시\n",
    "\n",
    "cv2.waitKey(5000)  # 이미지를 불러오고 나서 5초동안(ms단위) 사용자 키 입력 대기 : 아무 키나 누르면 아래의 코드들을 이어서 실행\n",
    "\n",
    "cv2.destroyAllWindows() # 위에 띄운 모든 창을 끄기"
   ]
  },
  {
   "cell_type": "markdown",
   "metadata": {},
   "source": [
    "## 읽기 옵션\n",
    "1. cv2.IMREAD_COLOR : 컬러 이미지, 투명 영역은 무시 (기본값)\n",
    "1. cv2.IMREAD_GRAYSCALE : 흑백 이미지\n",
    "1. cv2.IMREAD_UNCHANGED : 컬러 이미지, 투명 영역까지 포함"
   ]
  },
  {
   "cell_type": "code",
   "execution_count": 4,
   "metadata": {},
   "outputs": [],
   "source": [
    "import cv2\n",
    "\n",
    "imgsrc_color = cv2.imread('img.jpg', cv2.IMREAD_COLOR)\n",
    "imgsrc_gray = cv2.imread('img.jpg', cv2.IMREAD_GRAYSCALE)\n",
    "imgsrc_unchanged = cv2.imread('img.jpg', cv2.IMREAD_UNCHANGED)\n",
    "\n",
    "cv2.imshow('CatImage_color', imgsrc_color)\n",
    "cv2.imshow('CatImage_gray', imgsrc_gray)\n",
    "cv2.imshow('CatImage_unchanged', imgsrc_unchanged)\n",
    "\n",
    "cv2.waitKey(0)\n",
    "cv2.destroyAllWindows()"
   ]
  },
  {
   "cell_type": "markdown",
   "metadata": {},
   "source": [
    "## Shape\n",
    "이미지의 height, width, channel 정보 출력"
   ]
  },
  {
   "cell_type": "code",
   "execution_count": 5,
   "metadata": {},
   "outputs": [
    {
     "data": {
      "text/plain": [
       "(391, 640, 3)"
      ]
     },
     "execution_count": 5,
     "metadata": {},
     "output_type": "execute_result"
    }
   ],
   "source": [
    "import cv2\n",
    "imgsrc = cv2.imread('img.jpg')\n",
    "imgsrc.shape    # 세로, 가로, channel정보\n",
    "# channel값이 3 : rgb 3개"
   ]
  }
 ],
 "metadata": {
  "kernelspec": {
   "display_name": "Python 3.9.7 ('base')",
   "language": "python",
   "name": "python3"
  },
  "language_info": {
   "codemirror_mode": {
    "name": "ipython",
    "version": 3
   },
   "file_extension": ".py",
   "mimetype": "text/x-python",
   "name": "python",
   "nbconvert_exporter": "python",
   "pygments_lexer": "ipython3",
   "version": "3.9.7"
  },
  "vscode": {
   "interpreter": {
    "hash": "145530bad2b595aa66ca7fcb22eb43aebe0a70d33744e242f8b97d5b99444a66"
   }
  }
 },
 "nbformat": 4,
 "nbformat_minor": 2
}
