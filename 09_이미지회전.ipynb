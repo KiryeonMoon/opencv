{
 "cells": [
  {
   "cell_type": "markdown",
   "metadata": {},
   "source": [
    "## 이미지 회전"
   ]
  },
  {
   "cell_type": "markdown",
   "metadata": {},
   "source": [
    "시계방향 90도"
   ]
  },
  {
   "cell_type": "code",
   "execution_count": 2,
   "metadata": {},
   "outputs": [],
   "source": [
    "import cv2\n",
    "img = cv2.imread('img.jpg')\n",
    "\n",
    "clockwise_90 = cv2.rotate(img, cv2.ROTATE_90_CLOCKWISE)    # 시계방향 90도 회전\n",
    "\n",
    "cv2.imshow('Origin', img)\n",
    "cv2.imshow('Clockwise_90', clockwise_90)\n",
    "cv2.waitKey(0)\n",
    "cv2.destroyAllWindows()"
   ]
  },
  {
   "cell_type": "markdown",
   "metadata": {},
   "source": [
    "180도 회전"
   ]
  },
  {
   "cell_type": "code",
   "execution_count": 1,
   "metadata": {},
   "outputs": [],
   "source": [
    "import cv2\n",
    "img = cv2.imread('img.jpg')\n",
    "\n",
    "clockwise_180 = cv2.rotate(img, cv2.ROTATE_180)    # 180도 회전\n",
    "\n",
    "cv2.imshow('Origin', img)\n",
    "cv2.imshow('Rotate_180', clockwise_180)\n",
    "cv2.waitKey(0)\n",
    "cv2.destroyAllWindows()"
   ]
  },
  {
   "cell_type": "markdown",
   "metadata": {},
   "source": [
    "시계반대방향 90도 = 시계방향 270도"
   ]
  },
  {
   "cell_type": "code",
   "execution_count": 2,
   "metadata": {},
   "outputs": [],
   "source": [
    "import cv2\n",
    "img = cv2.imread('img.jpg')\n",
    "\n",
    "c_clockwise_90 = cv2.rotate(img, cv2.ROTATE_90_COUNTERCLOCKWISE)    # 반시계방향 90도 회전\n",
    "\n",
    "cv2.imshow('Origin', img)\n",
    "cv2.imshow('CounterClockwise_270', c_clockwise_90)\n",
    "cv2.waitKey(0)\n",
    "cv2.destroyAllWindows()"
   ]
  }
 ],
 "metadata": {
  "kernelspec": {
   "display_name": "base",
   "language": "python",
   "name": "python3"
  },
  "language_info": {
   "codemirror_mode": {
    "name": "ipython",
    "version": 3
   },
   "file_extension": ".py",
   "mimetype": "text/x-python",
   "name": "python",
   "nbconvert_exporter": "python",
   "pygments_lexer": "ipython3",
   "version": "3.9.12"
  }
 },
 "nbformat": 4,
 "nbformat_minor": 2
}
