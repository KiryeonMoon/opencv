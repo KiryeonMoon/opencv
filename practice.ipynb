{
 "cells": [
  {
   "cell_type": "code",
   "execution_count": 2,
   "metadata": {},
   "outputs": [
    {
     "name": "stdout",
     "output_type": "stream",
     "text": [
      "[[[0 0 0]\n",
      "  [0 0 0]\n",
      "  [0 0 0]\n",
      "  ...\n",
      "  [0 0 0]\n",
      "  [0 0 0]\n",
      "  [0 0 0]]\n",
      "\n",
      " [[0 0 0]\n",
      "  [0 0 0]\n",
      "  [0 0 0]\n",
      "  ...\n",
      "  [0 0 0]\n",
      "  [0 0 0]\n",
      "  [0 0 0]]\n",
      "\n",
      " [[0 0 0]\n",
      "  [0 0 0]\n",
      "  [0 0 0]\n",
      "  ...\n",
      "  [0 0 0]\n",
      "  [0 0 0]\n",
      "  [0 0 0]]\n",
      "\n",
      " ...\n",
      "\n",
      " [[0 0 0]\n",
      "  [0 0 0]\n",
      "  [0 0 0]\n",
      "  ...\n",
      "  [0 0 0]\n",
      "  [0 0 0]\n",
      "  [0 0 0]]\n",
      "\n",
      " [[0 0 0]\n",
      "  [0 0 0]\n",
      "  [0 0 0]\n",
      "  ...\n",
      "  [0 0 0]\n",
      "  [0 0 0]\n",
      "  [0 0 0]]\n",
      "\n",
      " [[0 0 0]\n",
      "  [0 0 0]\n",
      "  [0 0 0]\n",
      "  ...\n",
      "  [0 0 0]\n",
      "  [0 0 0]\n",
      "  [0 0 0]]]\n"
     ]
    }
   ],
   "source": [
    "import cv2\n",
    "import numpy as np\n",
    "\n",
    "img = np.zeros((480, 640, 3), dtype=np.uint8)\n",
    "\n",
    "print(img)\n",
    "\n",
    "cv2.imshow('Origin', img)\n",
    "cv2.waitKey(0)\n",
    "cv2.destroyAllWindows()"
   ]
  },
  {
   "cell_type": "code",
   "execution_count": 7,
   "metadata": {},
   "outputs": [
    {
     "data": {
      "text/plain": [
       "array([[[255,   0, 255],\n",
       "        [255,   0, 255],\n",
       "        [255,   0, 255],\n",
       "        ...,\n",
       "        [255,   0, 255],\n",
       "        [255,   0, 255],\n",
       "        [255,   0, 255]],\n",
       "\n",
       "       [[255,   0, 255],\n",
       "        [255,   0, 255],\n",
       "        [255,   0, 255],\n",
       "        ...,\n",
       "        [255,   0, 255],\n",
       "        [255,   0, 255],\n",
       "        [255,   0, 255]],\n",
       "\n",
       "       [[255,   0, 255],\n",
       "        [255,   0, 255],\n",
       "        [255,   0, 255],\n",
       "        ...,\n",
       "        [255,   0, 255],\n",
       "        [255,   0, 255],\n",
       "        [255,   0, 255]],\n",
       "\n",
       "       ...,\n",
       "\n",
       "       [[255,   0, 255],\n",
       "        [255,   0, 255],\n",
       "        [255,   0, 255],\n",
       "        ...,\n",
       "        [255,   0, 255],\n",
       "        [255,   0, 255],\n",
       "        [255,   0, 255]],\n",
       "\n",
       "       [[255,   0, 255],\n",
       "        [255,   0, 255],\n",
       "        [255,   0, 255],\n",
       "        ...,\n",
       "        [255,   0, 255],\n",
       "        [255,   0, 255],\n",
       "        [255,   0, 255]],\n",
       "\n",
       "       [[255,   0, 255],\n",
       "        [255,   0, 255],\n",
       "        [255,   0, 255],\n",
       "        ...,\n",
       "        [255,   0, 255],\n",
       "        [255,   0, 255],\n",
       "        [255,   0, 255]]], dtype=uint8)"
      ]
     },
     "execution_count": 7,
     "metadata": {},
     "output_type": "execute_result"
    }
   ],
   "source": [
    "img[:] = (255, 0, 255)\n",
    "img"
   ]
  },
  {
   "cell_type": "code",
   "execution_count": null,
   "metadata": {},
   "outputs": [],
   "source": []
  }
 ],
 "metadata": {
  "kernelspec": {
   "display_name": "Python 3.9.7 ('base')",
   "language": "python",
   "name": "python3"
  },
  "language_info": {
   "codemirror_mode": {
    "name": "ipython",
    "version": 3
   },
   "file_extension": ".py",
   "mimetype": "text/x-python",
   "name": "python",
   "nbconvert_exporter": "python",
   "pygments_lexer": "ipython3",
   "version": "3.9.7"
  },
  "orig_nbformat": 4,
  "vscode": {
   "interpreter": {
    "hash": "145530bad2b595aa66ca7fcb22eb43aebe0a70d33744e242f8b97d5b99444a66"
   }
  }
 },
 "nbformat": 4,
 "nbformat_minor": 2
}
