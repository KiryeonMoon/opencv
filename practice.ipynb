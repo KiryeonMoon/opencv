{
 "cells": [
  {
   "cell_type": "code",
   "execution_count": 1,
   "metadata": {},
   "outputs": [],
   "source": [
    "import cv2\n",
    "import numpy as np\n",
    "\n",
    "img = cv2.imread('img.jpg', cv2.IMREAD_GRAYSCALE)\n",
    "\n",
    "cv2.imshow('Origin', img)\n",
    "cv2.waitKey(0)\n",
    "cv2.destroyAllWindows()"
   ]
  },
  {
   "cell_type": "code",
   "execution_count": 3,
   "metadata": {},
   "outputs": [],
   "source": [
    "import cv2\n",
    "import numpy as np\n",
    "\n",
    "kernel = np.ones((3, 3), dtype=np.uint8)\n",
    "\n",
    "img = cv2.imread('dilate.png', cv2.IMREAD_GRAYSCALE)\n",
    "dilate1 = cv2.dilate(img, kernel, iterations=1)\n",
    "dilate2 = cv2.dilate(img, kernel, iterations=2)\n",
    "dilate3 = cv2.dilate(img, kernel, iterations=3)\n",
    "\n",
    "cv2.imshow('Origin', img)\n",
    "cv2.imshow('Dilate1', dilate1)\n",
    "cv2.imshow('Dilate2', dilate2)\n",
    "cv2.imshow('Dilate3', dilate3)\n",
    "cv2.waitKey(0)\n",
    "cv2.destroyAllWindows()"
   ]
  },
  {
   "cell_type": "code",
   "execution_count": 4,
   "metadata": {},
   "outputs": [],
   "source": [
    "import cv2\n",
    "import numpy as np\n",
    "\n",
    "kernel = np.ones((3, 3), dtype=np.uint8)\n",
    "\n",
    "img = cv2.imread('erode.png', cv2.IMREAD_GRAYSCALE)\n",
    "\n",
    "erode1 = cv2.erode(img, kernel, iterations=1)\n",
    "erode2 = cv2.erode(img, kernel, iterations=2)\n",
    "erode3 = cv2.erode(img, kernel, iterations=3)\n",
    "\n",
    "cv2.imshow('Origin', img)\n",
    "cv2.imshow('Erode1', erode1)\n",
    "cv2.imshow('Erode2', erode2)\n",
    "cv2.imshow('Erode3', erode3)\n",
    "\n",
    "cv2.waitKey(0)\n",
    "cv2.destroyAllWindows()"
   ]
  },
  {
   "cell_type": "code",
   "execution_count": 5,
   "metadata": {},
   "outputs": [],
   "source": [
    "img = cv2.imread('erode.png', cv2.IMREAD_GRAYSCALE)\n",
    "kernel = np.ones((3, 3), dtype=np.uint8)\n",
    "\n",
    "erode = cv2.erode(img, kernel, iterations=3)\n",
    "dilate = cv2.dilate(erode, kernel, iterations=3)\n",
    "\n",
    "cv2.imshow('Origin', img)\n",
    "cv2.imshow('Erode', erode)\n",
    "cv2.imshow('Dilate after erode', dilate)\n",
    "\n",
    "cv2.waitKey(0)\n",
    "cv2.destroyAllWindows()"
   ]
  },
  {
   "cell_type": "code",
   "execution_count": 6,
   "metadata": {},
   "outputs": [],
   "source": [
    "img = cv2.imread('dilate.png', cv2.IMREAD_GRAYSCALE)\n",
    "kernel = np.ones((3, 3), dtype=np.uint8)\n",
    "\n",
    "dilate = cv2.dilate(img, kernel, iterations=3)\n",
    "erode = cv2.erode(dilate, kernel, iterations=3)\n",
    "\n",
    "cv2.imshow('Origin', img)\n",
    "cv2.imshow('Dilate', dilate)\n",
    "cv2.imshow('Erode after Dilate', erode)\n",
    "\n",
    "cv2.waitKey(0)\n",
    "cv2.destroyAllWindows()"
   ]
  },
  {
   "cell_type": "code",
   "execution_count": null,
   "metadata": {},
   "outputs": [],
   "source": []
  }
 ],
 "metadata": {
  "kernelspec": {
   "display_name": "Python 3.9.7 ('base')",
   "language": "python",
   "name": "python3"
  },
  "language_info": {
   "codemirror_mode": {
    "name": "ipython",
    "version": 3
   },
   "file_extension": ".py",
   "mimetype": "text/x-python",
   "name": "python",
   "nbconvert_exporter": "python",
   "pygments_lexer": "ipython3",
   "version": "3.9.7"
  },
  "orig_nbformat": 4,
  "vscode": {
   "interpreter": {
    "hash": "145530bad2b595aa66ca7fcb22eb43aebe0a70d33744e242f8b97d5b99444a66"
   }
  }
 },
 "nbformat": 4,
 "nbformat_minor": 2
}
