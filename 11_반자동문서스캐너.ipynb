{
 "cells": [
  {
   "cell_type": "markdown",
   "metadata": {},
   "source": [
    "### 반자동 문서 스캐너"
   ]
  },
  {
   "cell_type": "markdown",
   "metadata": {},
   "source": [
    "### 마우스 이벤트 등록"
   ]
  },
  {
   "cell_type": "code",
   "execution_count": 4,
   "metadata": {},
   "outputs": [
    {
     "name": "stdout",
     "output_type": "stream",
     "text": [
      "왼쪽 버튼 down\n",
      "777 442\n",
      "왼쪽 버튼 Up\n",
      "777 442\n",
      "왼쪽 버튼 down\n",
      "943 341\n",
      "왼쪽 버튼 Up\n",
      "698 593\n",
      "왼쪽 버튼 down\n",
      "525 378\n",
      "왼쪽 버튼 Up\n",
      "1072 678\n",
      "왼쪽 버튼 down\n",
      "825 472\n",
      "왼쪽 버튼 Up\n",
      "825 472\n",
      "왼쪽 버튼 down\n",
      "791 452\n",
      "왼쪽 버튼 Up\n",
      "372 695\n"
     ]
    }
   ],
   "source": [
    "import cv2\n",
    "\n",
    "def mouse_handler(event, x, y, flags, param):\n",
    "    if event == cv2.EVENT_LBUTTONDOWN:  # 마우스 왼쪽 버튼 누름\n",
    "        print('왼쪽 버튼 down')\n",
    "        print(x, y)\n",
    "    elif event == cv2.EVENT_LBUTTONUP:  # 마우스 왼쪽 버튼 뗌\n",
    "        print('왼쪽 버튼 Up')\n",
    "        print(x, y) \n",
    "\n",
    "img = cv2.imread('poker.jpg')\n",
    "cv2.namedWindow('Test') # Test라는 이름의 윈도우를 먼저 만들어 둠. 여기에 마우스 이벤트를 처리하기 위한 핸들러 적용\n",
    "cv2.setMouseCallback('Test', mouse_handler)\n",
    "\n",
    "cv2.imshow('Test', img)\n",
    "cv2.waitKey(0)\n",
    "cv2.destroyAllWindows()"
   ]
  },
  {
   "cell_type": "markdown",
   "metadata": {},
   "source": [
    "### 프로젝트"
   ]
  },
  {
   "cell_type": "code",
   "execution_count": 7,
   "metadata": {},
   "outputs": [],
   "source": [
    "import cv2\n",
    "import numpy as np\n",
    "\n",
    "point_lst = []\n",
    "src_img = cv2.imread('poker.jpg')\n",
    "COLOR = (255, 0, 255)   # 핑크\n",
    "\n",
    "def mouse_handler(event, x, y, flags, param):\n",
    "    if event == cv2.EVENT_LBUTTONDOWN:  # 마우스 왼쪽 버튼 누름\n",
    "        point_lst.append((x, y))\n",
    "    \n",
    "    for point in point_lst:\n",
    "        cv2.circle(src_img, point, 10, COLOR, cv2.FILLED)\n",
    "    \n",
    "    if len(point_lst) == 4:\n",
    "        show_result()   # 결과 출력\n",
    "    \n",
    "    cv2.imshow('Test', src_img)\n",
    "\n",
    "def show_result():\n",
    "    width, height = 530, 710\n",
    "\n",
    "    src = np.float32(point_lst)\n",
    "    dst = np.array([[0, 0], [width, 0], [width, height], [0, height]], dtype = np.float32)  # output 4개 지점\n",
    "\n",
    "    matrix = cv2.getPerspectiveTransform(src, dst)  # src영역을 dst영역으로 바꾸기 위한 변환행렬 얻어옴\n",
    "    result = cv2.warpPerspective(src_img, matrix, (width, height))  # 변환행렬을 적용하여 최종 결과이미지를 얻어옴\n",
    "    cv2.imshow('Result', result)\n",
    "    \n",
    "\n",
    "cv2.namedWindow('Test') # Test라는 이름의 윈도우를 먼저 만들어 둠. 여기에 마우스 이벤트를 처리하기 위한 핸들러 적용\n",
    "cv2.setMouseCallback('Test', mouse_handler)\n",
    "\n",
    "cv2.imshow('Test', src_img)\n",
    "cv2.waitKey(0)\n",
    "cv2.destroyAllWindows()"
   ]
  },
  {
   "cell_type": "code",
   "execution_count": null,
   "metadata": {},
   "outputs": [],
   "source": []
  }
 ],
 "metadata": {
  "kernelspec": {
   "display_name": "base",
   "language": "python",
   "name": "python3"
  },
  "language_info": {
   "codemirror_mode": {
    "name": "ipython",
    "version": 3
   },
   "file_extension": ".py",
   "mimetype": "text/x-python",
   "name": "python",
   "nbconvert_exporter": "python",
   "pygments_lexer": "ipython3",
   "version": "3.9.12"
  }
 },
 "nbformat": 4,
 "nbformat_minor": 2
}
